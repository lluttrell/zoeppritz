{
 "metadata": {
  "name": "",
  "signature": "sha256:fbfcae99c487b31081cc1cdd9fc52351345a8fd076c53f1ccb086acc213838a3"
 },
 "nbformat": 3,
 "nbformat_minor": 0,
 "worksheets": [
  {
   "cells": [
    {
     "cell_type": "code",
     "collapsed": false,
     "input": [
      "import numpy as np\n",
      "import cmath as cmath\n",
      "import matplotlib.pyplot as plt\n",
      "%matplotlib inline"
     ],
     "language": "python",
     "metadata": {},
     "outputs": [],
     "prompt_number": 102
    },
    {
     "cell_type": "code",
     "collapsed": false,
     "input": [
      "#4a\n",
      "a1, a2 = 2000.,4000.\n",
      "b1, b2 = 1070.,2310.\n",
      "p1, p2 = 2000.,2500.\n",
      "\n",
      "#4b\n",
      "#a1, a2 = 1480.,3300.\n",
      "#b1, b2 = 1.,1300.\n",
      "#p1, p2 = 1000.,900.\n",
      "\n",
      "z1s = p1*b1\n",
      "z2s = p2*b2\n",
      "z1p = p1*a1\n",
      "z2p = p2*a2"
     ],
     "language": "python",
     "metadata": {},
     "outputs": [],
     "prompt_number": 130
    },
    {
     "cell_type": "code",
     "collapsed": false,
     "input": [
      "N = 1000\n",
      "theta1deg = np.linspace(0.,90.,N)\n",
      "theta1 = np.radians(theta1deg)\n",
      "\n",
      "#make zero arrays to be filled in later\n",
      "ERP = np.zeros(N)\n",
      "ERS = np.zeros(N)\n",
      "ETP = np.zeros(N)\n",
      "ETS = np.zeros(N)"
     ],
     "language": "python",
     "metadata": {},
     "outputs": [],
     "prompt_number": 131
    },
    {
     "cell_type": "code",
     "collapsed": false,
     "input": [
      "for i in range(0,N):\n",
      "    t1 = theta1[i]\n",
      "    \n",
      "    # trig identities\n",
      "    d1 = np.arcsin(b1/a1*np.sin(t1))\n",
      "    st2 = a2/a1*np.sin(t1)\n",
      "    ct2 = cmath.sqrt(1.-st2**2)\n",
      "    sd2 = b2/a1*np.sin(t1)\n",
      "    cd2 = cmath.sqrt(1.-sd2**2)\n",
      "\n",
      "    #double angles\n",
      "    s2t2 = 2*st2*ct2\n",
      "    s2d2 = 2*sd2*cd2\n",
      "    c2d2 = 1.-2*sd2**2\n",
      "\n",
      "    #Zoepritz equations\n",
      "    A = np.array([[np.cos(t1), -np.sin(d1), ct2, sd2],\n",
      "                 [np.sin(t1), np.cos(d1), -st2, cd2],\n",
      "                 [z1p*np.cos(2*d1), -z1s*np.sin(2*d1), -z2p*c2d2, -z2s*s2d2],\n",
      "                 [b1/a1*np.sin(2*t1), z1s*np.cos(2*d1), b2/a2*z2s*s2t2, -z2s*c2d2]])\n",
      "\n",
      "    B = np.array([[np.cos(t1)],\n",
      "                 [-np.sin(t1)],\n",
      "                 [-z1p*np.cos(2*d1)],\n",
      "                 [b1/a1*z1s*np.sin(2*t1)]])\n",
      "    \n",
      "    #Solve the matrix equations\n",
      "    c = np.linalg.solve(A,B)\n",
      "    \n",
      "    A1 = c[0]\n",
      "    B1 = c[1]\n",
      "    A2 = c[2]\n",
      "    B2 = c[3]\n",
      "    \n",
      "    ERP[i] = np.absolute(A1)**2\n",
      "    ERS[i] = (b1*np.cos(d1))/(a1*np.cos(t1))*np.absolute(B1)**2\n",
      "    ETP[i] = (p2*a2*np.real(ct2))/(p1*a1*np.cos(t1))*np.absolute(A2)**2\n",
      "    ETS[i] = (p2*b2*np.real(cd2))/(p1*a1*np.cos(d1))*np.absolute(B2)**2"
     ],
     "language": "python",
     "metadata": {},
     "outputs": [],
     "prompt_number": 132
    },
    {
     "cell_type": "code",
     "collapsed": false,
     "input": [
      "fig,ax = plt.subplots(4,1,figsize=(6,6),sharex=False)\n",
      "ax[0].plot(theta1deg,ERP)\n",
      "ax[0].set_ylabel(\"$E_{rp}$\")\n",
      "ax[0].set_ylim(-0.01,1.01)\n",
      "\n",
      "ax[1].plot(theta1deg,ETP)\n",
      "ax[1].set_ylabel(\"$E_{tp}$\")\n",
      "ax[1].set_ylim(-0.01,1.01)\n",
      "\n",
      "ax[2].plot(theta1deg,ERS)\n",
      "ax[2].set_ylabel(\"$E_{rs}$\")\n",
      "ax[2].set_ylim(-0.01,1.01)\n",
      "\n",
      "ax[3].plot(theta1deg,ETS)\n",
      "ax[3].set_ylabel(\"$E_{ts}$\")\n",
      "ax[3].set_ylim(-0.01,1.01)\n",
      "ax[3].set_xlabel(\"Incident Angle $(^\\circ$)\")\n",
      "\n",
      "fig.savefig(\"4a.pdf\")\n",
      "#fig.savefig(\"4b.pdf\")"
     ],
     "language": "python",
     "metadata": {},
     "outputs": [
      {
       "metadata": {},
       "output_type": "display_data",
       "png": "[encoded data removed]",
       "text": [
        "<matplotlib.figure.Figure at 0x1142c4f50>"
       ]
      }
     ],
     "prompt_number": 133
    },
    {
     "cell_type": "code",
     "collapsed": false,
     "input": [],
     "language": "python",
     "metadata": {},
     "outputs": [],
     "prompt_number": 16
    },
    {
     "cell_type": "code",
     "collapsed": false,
     "input": [],
     "language": "python",
     "metadata": {},
     "outputs": []
    }
   ],
   "metadata": {}
  }
 ]
}
